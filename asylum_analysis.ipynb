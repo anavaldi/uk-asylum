{
 "cells": [
  {
   "cell_type": "markdown",
   "metadata": {},
   "source": [
    "# Asylum and resettlement datasets "
   ]
  },
  {
   "cell_type": "markdown",
   "metadata": {},
   "source": [
    "Analysis of asylum and resettlement datasets in the UK."
   ]
  },
  {
   "cell_type": "markdown",
   "metadata": {},
   "source": [
    "## 1. Asylum applications, decisions and resettlement"
   ]
  },
  {
   "cell_type": "markdown",
   "metadata": {},
   "source": [
    "First, we will import the dataset."
   ]
  },
  {
   "cell_type": "code",
   "execution_count": 275,
   "metadata": {},
   "outputs": [],
   "source": [
    "import pandas as pd\n",
    "\n",
    "df = pd.read_csv('./data/asylum_decisions.csv', dtype={\"Year\":str, \"Decisions\": str})"
   ]
  },
  {
   "cell_type": "code",
   "execution_count": 276,
   "metadata": {},
   "outputs": [
    {
     "data": {
      "text/html": [
       "<div>\n",
       "<style scoped>\n",
       "    .dataframe tbody tr th:only-of-type {\n",
       "        vertical-align: middle;\n",
       "    }\n",
       "\n",
       "    .dataframe tbody tr th {\n",
       "        vertical-align: top;\n",
       "    }\n",
       "\n",
       "    .dataframe thead th {\n",
       "        text-align: right;\n",
       "    }\n",
       "</style>\n",
       "<table border=\"1\" class=\"dataframe\">\n",
       "  <thead>\n",
       "    <tr style=\"text-align: right;\">\n",
       "      <th></th>\n",
       "      <th>Year</th>\n",
       "      <th>Quarter</th>\n",
       "      <th>Nationality</th>\n",
       "      <th>Region</th>\n",
       "      <th>Case type</th>\n",
       "      <th>Case outcome group</th>\n",
       "      <th>Case outcome</th>\n",
       "      <th>Age</th>\n",
       "      <th>Sex</th>\n",
       "      <th>Applicant type</th>\n",
       "      <th>UASC</th>\n",
       "      <th>Decisions</th>\n",
       "    </tr>\n",
       "  </thead>\n",
       "  <tbody>\n",
       "    <tr>\n",
       "      <th>0</th>\n",
       "      <td>2001</td>\n",
       "      <td>2001 Q1</td>\n",
       "      <td>Afghanistan</td>\n",
       "      <td>Asia Central</td>\n",
       "      <td>Asylum Case</td>\n",
       "      <td>Grant of Protection</td>\n",
       "      <td>Asylum</td>\n",
       "      <td>Total (pre-2009)</td>\n",
       "      <td>Total (pre-2009)</td>\n",
       "      <td>Main Applicant</td>\n",
       "      <td>Total (pre-2006)</td>\n",
       "      <td>809</td>\n",
       "    </tr>\n",
       "    <tr>\n",
       "      <th>1</th>\n",
       "      <td>2001</td>\n",
       "      <td>2001 Q1</td>\n",
       "      <td>Afghanistan</td>\n",
       "      <td>Asia Central</td>\n",
       "      <td>Asylum Case</td>\n",
       "      <td>Grant of Other Leave</td>\n",
       "      <td>Exceptional Leave to Remain</td>\n",
       "      <td>Total (pre-2009)</td>\n",
       "      <td>Total (pre-2009)</td>\n",
       "      <td>Main Applicant</td>\n",
       "      <td>Total (pre-2006)</td>\n",
       "      <td>2,652</td>\n",
       "    </tr>\n",
       "    <tr>\n",
       "      <th>2</th>\n",
       "      <td>2001</td>\n",
       "      <td>2001 Q1</td>\n",
       "      <td>Afghanistan</td>\n",
       "      <td>Asia Central</td>\n",
       "      <td>Asylum Case</td>\n",
       "      <td>Refused</td>\n",
       "      <td>Certified Refusal</td>\n",
       "      <td>Total (pre-2009)</td>\n",
       "      <td>Total (pre-2009)</td>\n",
       "      <td>Main Applicant</td>\n",
       "      <td>Total (pre-2006)</td>\n",
       "      <td>88</td>\n",
       "    </tr>\n",
       "    <tr>\n",
       "      <th>3</th>\n",
       "      <td>2001</td>\n",
       "      <td>2001 Q1</td>\n",
       "      <td>Afghanistan</td>\n",
       "      <td>Asia Central</td>\n",
       "      <td>Asylum Case</td>\n",
       "      <td>Refused</td>\n",
       "      <td>Other Refusals</td>\n",
       "      <td>Total (pre-2009)</td>\n",
       "      <td>Total (pre-2009)</td>\n",
       "      <td>Main Applicant</td>\n",
       "      <td>Total (pre-2006)</td>\n",
       "      <td>301</td>\n",
       "    </tr>\n",
       "    <tr>\n",
       "      <th>4</th>\n",
       "      <td>2001</td>\n",
       "      <td>2001 Q1</td>\n",
       "      <td>Afghanistan</td>\n",
       "      <td>Asia Central</td>\n",
       "      <td>Asylum Case</td>\n",
       "      <td>Refused</td>\n",
       "      <td>3rd Country Refusal</td>\n",
       "      <td>Total (pre-2009)</td>\n",
       "      <td>Total (pre-2009)</td>\n",
       "      <td>Main Applicant</td>\n",
       "      <td>Total (pre-2006)</td>\n",
       "      <td>15</td>\n",
       "    </tr>\n",
       "  </tbody>\n",
       "</table>\n",
       "</div>"
      ],
      "text/plain": [
       "   Year  Quarter  Nationality        Region    Case type  \\\n",
       "0  2001  2001 Q1  Afghanistan  Asia Central  Asylum Case   \n",
       "1  2001  2001 Q1  Afghanistan  Asia Central  Asylum Case   \n",
       "2  2001  2001 Q1  Afghanistan  Asia Central  Asylum Case   \n",
       "3  2001  2001 Q1  Afghanistan  Asia Central  Asylum Case   \n",
       "4  2001  2001 Q1  Afghanistan  Asia Central  Asylum Case   \n",
       "\n",
       "     Case outcome group                 Case outcome              Age   \\\n",
       "0   Grant of Protection                       Asylum  Total (pre-2009)   \n",
       "1  Grant of Other Leave  Exceptional Leave to Remain  Total (pre-2009)   \n",
       "2               Refused            Certified Refusal  Total (pre-2009)   \n",
       "3               Refused               Other Refusals  Total (pre-2009)   \n",
       "4               Refused          3rd Country Refusal  Total (pre-2009)   \n",
       "\n",
       "                Sex  Applicant type              UASC Decisions  \n",
       "0  Total (pre-2009)  Main Applicant  Total (pre-2006)       809  \n",
       "1  Total (pre-2009)  Main Applicant  Total (pre-2006)     2,652  \n",
       "2  Total (pre-2009)  Main Applicant  Total (pre-2006)        88  \n",
       "3  Total (pre-2009)  Main Applicant  Total (pre-2006)       301  \n",
       "4  Total (pre-2009)  Main Applicant  Total (pre-2006)        15  "
      ]
     },
     "execution_count": 276,
     "metadata": {},
     "output_type": "execute_result"
    }
   ],
   "source": [
    "df.head()"
   ]
  },
  {
   "cell_type": "code",
   "execution_count": 277,
   "metadata": {},
   "outputs": [],
   "source": [
    "# Clean decisions column\n",
    "df['Decisions'] = df['Decisions'].str.replace(',', '')\n",
    "df['Decisions'] = df['Decisions'].astype(float)"
   ]
  },
  {
   "cell_type": "markdown",
   "metadata": {},
   "source": [
    "**Question:** Have asylum decision trends change over time?"
   ]
  },
  {
   "cell_type": "code",
   "execution_count": 278,
   "metadata": {},
   "outputs": [
    {
     "data": {
      "text/html": [
       "<div>\n",
       "<style scoped>\n",
       "    .dataframe tbody tr th:only-of-type {\n",
       "        vertical-align: middle;\n",
       "    }\n",
       "\n",
       "    .dataframe tbody tr th {\n",
       "        vertical-align: top;\n",
       "    }\n",
       "\n",
       "    .dataframe thead th {\n",
       "        text-align: right;\n",
       "    }\n",
       "</style>\n",
       "<table border=\"1\" class=\"dataframe\">\n",
       "  <thead>\n",
       "    <tr style=\"text-align: right;\">\n",
       "      <th></th>\n",
       "      <th>Nationality</th>\n",
       "      <th>Case outcome group</th>\n",
       "      <th>Year</th>\n",
       "      <th>Decisions</th>\n",
       "    </tr>\n",
       "  </thead>\n",
       "  <tbody>\n",
       "    <tr>\n",
       "      <th>0</th>\n",
       "      <td>Serbia and Montenegro</td>\n",
       "      <td>Refused</td>\n",
       "      <td>2001</td>\n",
       "      <td>9011.0</td>\n",
       "    </tr>\n",
       "    <tr>\n",
       "      <th>1</th>\n",
       "      <td>Iraq</td>\n",
       "      <td>Grant of Other Leave</td>\n",
       "      <td>2002</td>\n",
       "      <td>8779.0</td>\n",
       "    </tr>\n",
       "    <tr>\n",
       "      <th>2</th>\n",
       "      <td>Sri Lanka</td>\n",
       "      <td>Refused</td>\n",
       "      <td>2001</td>\n",
       "      <td>8371.0</td>\n",
       "    </tr>\n",
       "    <tr>\n",
       "      <th>3</th>\n",
       "      <td>Afghanistan</td>\n",
       "      <td>Grant of Other Leave</td>\n",
       "      <td>2001</td>\n",
       "      <td>7498.0</td>\n",
       "    </tr>\n",
       "    <tr>\n",
       "      <th>4</th>\n",
       "      <td>Turkey</td>\n",
       "      <td>Refused</td>\n",
       "      <td>2001</td>\n",
       "      <td>7340.0</td>\n",
       "    </tr>\n",
       "    <tr>\n",
       "      <th>...</th>\n",
       "      <td>...</td>\n",
       "      <td>...</td>\n",
       "      <td>...</td>\n",
       "      <td>...</td>\n",
       "    </tr>\n",
       "    <tr>\n",
       "      <th>8181</th>\n",
       "      <td>Cuba</td>\n",
       "      <td>Grant of Protection</td>\n",
       "      <td>2006</td>\n",
       "      <td>1.0</td>\n",
       "    </tr>\n",
       "    <tr>\n",
       "      <th>8182</th>\n",
       "      <td>Cyprus</td>\n",
       "      <td>Withdrawn</td>\n",
       "      <td>2006</td>\n",
       "      <td>1.0</td>\n",
       "    </tr>\n",
       "    <tr>\n",
       "      <th>8183</th>\n",
       "      <td>Refugee</td>\n",
       "      <td>Grant of Other Leave</td>\n",
       "      <td>2015</td>\n",
       "      <td>1.0</td>\n",
       "    </tr>\n",
       "    <tr>\n",
       "      <th>8184</th>\n",
       "      <td>Qatar</td>\n",
       "      <td>Grant of Protection</td>\n",
       "      <td>2015</td>\n",
       "      <td>1.0</td>\n",
       "    </tr>\n",
       "    <tr>\n",
       "      <th>8185</th>\n",
       "      <td>Qatar</td>\n",
       "      <td>Refused</td>\n",
       "      <td>2015</td>\n",
       "      <td>1.0</td>\n",
       "    </tr>\n",
       "  </tbody>\n",
       "</table>\n",
       "<p>8186 rows × 4 columns</p>\n",
       "</div>"
      ],
      "text/plain": [
       "                Nationality    Case outcome group  Year  Decisions\n",
       "0     Serbia and Montenegro               Refused  2001     9011.0\n",
       "1                      Iraq  Grant of Other Leave  2002     8779.0\n",
       "2                 Sri Lanka               Refused  2001     8371.0\n",
       "3               Afghanistan  Grant of Other Leave  2001     7498.0\n",
       "4                    Turkey               Refused  2001     7340.0\n",
       "...                     ...                   ...   ...        ...\n",
       "8181                   Cuba   Grant of Protection  2006        1.0\n",
       "8182                 Cyprus             Withdrawn  2006        1.0\n",
       "8183                Refugee  Grant of Other Leave  2015        1.0\n",
       "8184                  Qatar   Grant of Protection  2015        1.0\n",
       "8185                  Qatar               Refused  2015        1.0\n",
       "\n",
       "[8186 rows x 4 columns]"
      ]
     },
     "execution_count": 278,
     "metadata": {},
     "output_type": "execute_result"
    }
   ],
   "source": [
    "df_q1 = df[['Year', 'Nationality', 'Case outcome group', 'Decisions']].groupby(by=['Year', 'Nationality', 'Case outcome group']).sum()\n",
    "df_q1.reset_index(level=0, inplace=True)\n",
    "df_q1 = df_q1.sort_values('Decisions', ascending=False)\n",
    "df_q1 = df_q1.reset_index()\n",
    "df_q1"
   ]
  },
  {
   "cell_type": "code",
   "execution_count": 279,
   "metadata": {},
   "outputs": [
    {
     "data": {
      "text/html": [
       "<div>\n",
       "<style scoped>\n",
       "    .dataframe tbody tr th:only-of-type {\n",
       "        vertical-align: middle;\n",
       "    }\n",
       "\n",
       "    .dataframe tbody tr th {\n",
       "        vertical-align: top;\n",
       "    }\n",
       "\n",
       "    .dataframe thead th {\n",
       "        text-align: right;\n",
       "    }\n",
       "</style>\n",
       "<table border=\"1\" class=\"dataframe\">\n",
       "  <thead>\n",
       "    <tr style=\"text-align: right;\">\n",
       "      <th></th>\n",
       "      <th>Nationality</th>\n",
       "      <th>Case outcome group</th>\n",
       "      <th>Year</th>\n",
       "      <th>Decisions</th>\n",
       "    </tr>\n",
       "  </thead>\n",
       "  <tbody>\n",
       "    <tr>\n",
       "      <th>0</th>\n",
       "      <td>Serbia and Montenegro</td>\n",
       "      <td>Refused</td>\n",
       "      <td>2001</td>\n",
       "      <td>9011.0</td>\n",
       "    </tr>\n",
       "    <tr>\n",
       "      <th>1</th>\n",
       "      <td>Iraq</td>\n",
       "      <td>Grant of Other Leave</td>\n",
       "      <td>2002</td>\n",
       "      <td>8779.0</td>\n",
       "    </tr>\n",
       "  </tbody>\n",
       "</table>\n",
       "</div>"
      ],
      "text/plain": [
       "             Nationality    Case outcome group  Year  Decisions\n",
       "0  Serbia and Montenegro               Refused  2001     9011.0\n",
       "1                   Iraq  Grant of Other Leave  2002     8779.0"
      ]
     },
     "execution_count": 279,
     "metadata": {},
     "output_type": "execute_result"
    }
   ],
   "source": [
    "df_q1.loc[0:1]"
   ]
  },
  {
   "cell_type": "code",
   "execution_count": 280,
   "metadata": {},
   "outputs": [],
   "source": [
    "nationalities_filter = ['Serbia and Montenegro', 'Syria', 'Iran', 'Morocco', 'Iraq', 'Pakistan', 'Eritrea', 'Nigeria']"
   ]
  },
  {
   "cell_type": "code",
   "execution_count": 281,
   "metadata": {},
   "outputs": [],
   "source": [
    "df_q1_ref = df_q1.loc[(df_q1['Case outcome group'] == 'Refused') | (df_q1['Case outcome group'] == 'Withdrawn')]\n",
    "df_q1_ref = df_q1_ref[df_q1_ref['Nationality'].isin(nationalities_filter)]\n",
    "\n",
    "df_q1_ref = df_q1_ref[['Year', 'Nationality', 'Decisions']].groupby(by=['Year', 'Nationality']).sum()\n",
    "df_q1_ref.reset_index(level=0, inplace=True)\n",
    "df_q1_ref = df_q1_ref.sort_values('Decisions', ascending=False)\n",
    "df_q1_ref = df_q1_ref.reset_index()\n",
    "df_q1_ref['Rejected'] = df_q1_ref['Decisions']\n",
    "df_q1_ref = df_q1_ref.drop(['Decisions'], axis=1)"
   ]
  },
  {
   "cell_type": "code",
   "execution_count": 282,
   "metadata": {},
   "outputs": [
    {
     "data": {
      "text/html": [
       "<div>\n",
       "<style scoped>\n",
       "    .dataframe tbody tr th:only-of-type {\n",
       "        vertical-align: middle;\n",
       "    }\n",
       "\n",
       "    .dataframe tbody tr th {\n",
       "        vertical-align: top;\n",
       "    }\n",
       "\n",
       "    .dataframe thead th {\n",
       "        text-align: right;\n",
       "    }\n",
       "</style>\n",
       "<table border=\"1\" class=\"dataframe\">\n",
       "  <thead>\n",
       "    <tr style=\"text-align: right;\">\n",
       "      <th></th>\n",
       "      <th>Nationality</th>\n",
       "      <th>Year</th>\n",
       "      <th>Rejected</th>\n",
       "    </tr>\n",
       "  </thead>\n",
       "  <tbody>\n",
       "    <tr>\n",
       "      <th>0</th>\n",
       "      <td>Serbia and Montenegro</td>\n",
       "      <td>2001</td>\n",
       "      <td>9258.0</td>\n",
       "    </tr>\n",
       "    <tr>\n",
       "      <th>1</th>\n",
       "      <td>Iraq</td>\n",
       "      <td>2001</td>\n",
       "      <td>6377.0</td>\n",
       "    </tr>\n",
       "    <tr>\n",
       "      <th>2</th>\n",
       "      <td>Iran</td>\n",
       "      <td>2001</td>\n",
       "      <td>5201.0</td>\n",
       "    </tr>\n",
       "    <tr>\n",
       "      <th>3</th>\n",
       "      <td>Iraq</td>\n",
       "      <td>2004</td>\n",
       "      <td>4965.0</td>\n",
       "    </tr>\n",
       "    <tr>\n",
       "      <th>4</th>\n",
       "      <td>Iraq</td>\n",
       "      <td>2003</td>\n",
       "      <td>4933.0</td>\n",
       "    </tr>\n",
       "  </tbody>\n",
       "</table>\n",
       "</div>"
      ],
      "text/plain": [
       "             Nationality  Year  Rejected\n",
       "0  Serbia and Montenegro  2001    9258.0\n",
       "1                   Iraq  2001    6377.0\n",
       "2                   Iran  2001    5201.0\n",
       "3                   Iraq  2004    4965.0\n",
       "4                   Iraq  2003    4933.0"
      ]
     },
     "execution_count": 282,
     "metadata": {},
     "output_type": "execute_result"
    }
   ],
   "source": [
    "df_q1_ref.head()"
   ]
  },
  {
   "cell_type": "code",
   "execution_count": 283,
   "metadata": {},
   "outputs": [],
   "source": [
    "df_q1_not_ref = df_q1.loc[(df_q1['Case outcome group'] != 'Refused') & (df_q1['Case outcome group'] != 'Withdrawn')]\n",
    "df_q1_not_ref = df_q1_not_ref[df_q1_not_ref['Nationality'].isin(nationalities_filter)]\n",
    "\n",
    "\n",
    "df_q1_not_ref = df_q1_not_ref[['Year', 'Nationality', 'Decisions']].groupby(by=['Year', 'Nationality']).sum()\n",
    "df_q1_not_ref.reset_index(level=0, inplace=True)\n",
    "df_q1_not_ref = df_q1_not_ref.sort_values('Decisions', ascending=False)\n",
    "df_q1_not_ref = df_q1_not_ref.reset_index()\n",
    "df_q1_not_ref['Accepted'] = df_q1_not_ref['Decisions']\n",
    "df_q1_not_ref = df_q1_not_ref.drop(['Decisions'], axis=1)"
   ]
  },
  {
   "cell_type": "code",
   "execution_count": 284,
   "metadata": {},
   "outputs": [],
   "source": [
    "df_totals = df_q1_ref.merge(df_q1_not_ref, on =['Nationality', 'Year'])"
   ]
  },
  {
   "cell_type": "code",
   "execution_count": 285,
   "metadata": {},
   "outputs": [
    {
     "data": {
      "text/plain": [
       "Index(['Nationality', 'Year', 'Rejected', 'Accepted'], dtype='object')"
      ]
     },
     "execution_count": 285,
     "metadata": {},
     "output_type": "execute_result"
    }
   ],
   "source": [
    "df_totals.columns"
   ]
  },
  {
   "cell_type": "code",
   "execution_count": 286,
   "metadata": {},
   "outputs": [],
   "source": [
    "df_totals['Ratio'] = df_totals['Rejected']/df_totals['Accepted']"
   ]
  },
  {
   "cell_type": "code",
   "execution_count": 287,
   "metadata": {},
   "outputs": [
    {
     "data": {
      "text/html": [
       "<div>\n",
       "<style scoped>\n",
       "    .dataframe tbody tr th:only-of-type {\n",
       "        vertical-align: middle;\n",
       "    }\n",
       "\n",
       "    .dataframe tbody tr th {\n",
       "        vertical-align: top;\n",
       "    }\n",
       "\n",
       "    .dataframe thead th {\n",
       "        text-align: right;\n",
       "    }\n",
       "</style>\n",
       "<table border=\"1\" class=\"dataframe\">\n",
       "  <thead>\n",
       "    <tr style=\"text-align: right;\">\n",
       "      <th></th>\n",
       "      <th>Nationality</th>\n",
       "      <th>Year</th>\n",
       "      <th>Rejected</th>\n",
       "      <th>Accepted</th>\n",
       "      <th>Ratio</th>\n",
       "    </tr>\n",
       "  </thead>\n",
       "  <tbody>\n",
       "    <tr>\n",
       "      <th>0</th>\n",
       "      <td>Serbia and Montenegro</td>\n",
       "      <td>2001</td>\n",
       "      <td>9258.0</td>\n",
       "      <td>2420.0</td>\n",
       "      <td>3.825620</td>\n",
       "    </tr>\n",
       "    <tr>\n",
       "      <th>1</th>\n",
       "      <td>Iraq</td>\n",
       "      <td>2001</td>\n",
       "      <td>6377.0</td>\n",
       "      <td>2718.0</td>\n",
       "      <td>2.346210</td>\n",
       "    </tr>\n",
       "    <tr>\n",
       "      <th>2</th>\n",
       "      <td>Iran</td>\n",
       "      <td>2001</td>\n",
       "      <td>5201.0</td>\n",
       "      <td>880.0</td>\n",
       "      <td>5.910227</td>\n",
       "    </tr>\n",
       "    <tr>\n",
       "      <th>3</th>\n",
       "      <td>Iraq</td>\n",
       "      <td>2004</td>\n",
       "      <td>4965.0</td>\n",
       "      <td>202.0</td>\n",
       "      <td>24.579208</td>\n",
       "    </tr>\n",
       "    <tr>\n",
       "      <th>4</th>\n",
       "      <td>Iraq</td>\n",
       "      <td>2003</td>\n",
       "      <td>4933.0</td>\n",
       "      <td>2412.0</td>\n",
       "      <td>2.045191</td>\n",
       "    </tr>\n",
       "    <tr>\n",
       "      <th>...</th>\n",
       "      <td>...</td>\n",
       "      <td>...</td>\n",
       "      <td>...</td>\n",
       "      <td>...</td>\n",
       "      <td>...</td>\n",
       "    </tr>\n",
       "    <tr>\n",
       "      <th>140</th>\n",
       "      <td>Morocco</td>\n",
       "      <td>2003</td>\n",
       "      <td>37.0</td>\n",
       "      <td>5.0</td>\n",
       "      <td>7.400000</td>\n",
       "    </tr>\n",
       "    <tr>\n",
       "      <th>141</th>\n",
       "      <td>Morocco</td>\n",
       "      <td>2004</td>\n",
       "      <td>34.0</td>\n",
       "      <td>7.0</td>\n",
       "      <td>4.857143</td>\n",
       "    </tr>\n",
       "    <tr>\n",
       "      <th>142</th>\n",
       "      <td>Morocco</td>\n",
       "      <td>2005</td>\n",
       "      <td>34.0</td>\n",
       "      <td>8.0</td>\n",
       "      <td>4.250000</td>\n",
       "    </tr>\n",
       "    <tr>\n",
       "      <th>143</th>\n",
       "      <td>Morocco</td>\n",
       "      <td>2007</td>\n",
       "      <td>31.0</td>\n",
       "      <td>1.0</td>\n",
       "      <td>31.000000</td>\n",
       "    </tr>\n",
       "    <tr>\n",
       "      <th>144</th>\n",
       "      <td>Morocco</td>\n",
       "      <td>2008</td>\n",
       "      <td>26.0</td>\n",
       "      <td>5.0</td>\n",
       "      <td>5.200000</td>\n",
       "    </tr>\n",
       "  </tbody>\n",
       "</table>\n",
       "<p>145 rows × 5 columns</p>\n",
       "</div>"
      ],
      "text/plain": [
       "               Nationality  Year  Rejected  Accepted      Ratio\n",
       "0    Serbia and Montenegro  2001    9258.0    2420.0   3.825620\n",
       "1                     Iraq  2001    6377.0    2718.0   2.346210\n",
       "2                     Iran  2001    5201.0     880.0   5.910227\n",
       "3                     Iraq  2004    4965.0     202.0  24.579208\n",
       "4                     Iraq  2003    4933.0    2412.0   2.045191\n",
       "..                     ...   ...       ...       ...        ...\n",
       "140                Morocco  2003      37.0       5.0   7.400000\n",
       "141                Morocco  2004      34.0       7.0   4.857143\n",
       "142                Morocco  2005      34.0       8.0   4.250000\n",
       "143                Morocco  2007      31.0       1.0  31.000000\n",
       "144                Morocco  2008      26.0       5.0   5.200000\n",
       "\n",
       "[145 rows x 5 columns]"
      ]
     },
     "execution_count": 287,
     "metadata": {},
     "output_type": "execute_result"
    }
   ],
   "source": [
    "df_totals"
   ]
  },
  {
   "cell_type": "code",
   "execution_count": 288,
   "metadata": {},
   "outputs": [
    {
     "data": {
      "application/vnd.plotly.v1+json": {
       "config": {
        "plotlyServerURL": "https://plot.ly"
       },
       "data": [
        {
         "alignmentgroup": "True",
         "hovertemplate": "Nationality=Pakistan<br>Year=%{x}<br>Rate=%{text}<extra></extra>",
         "legendgroup": "Pakistan",
         "marker": {
          "color": "#636efa"
         },
         "name": "Pakistan",
         "offsetgroup": "Pakistan",
         "orientation": "v",
         "showlegend": true,
         "text": [
          2.331460674157303,
          2.0018552875695734,
          4.7960954446854664,
          7.079691516709511,
          6.195011337868481,
          4.553385416666667,
          3.9597402597402596,
          3.1574074074074074,
          5.361027190332326,
          6.4945054945054945,
          10.130434782608695,
          12.126506024096386,
          7.4278606965174125,
          6.286821705426356,
          7.671428571428572,
          12.541237113402062,
          14.394849785407725,
          14.316666666666666,
          10.313559322033898,
          11.575418994413408
         ],
         "textposition": "auto",
         "texttemplate": "%{text:.3s}",
         "type": "bar",
         "x": [
          2020,
          2019,
          2018,
          2017,
          2016,
          2015,
          2014,
          2013,
          2012,
          2011,
          2010,
          2009,
          2008,
          2007,
          2006,
          2005,
          2004,
          2003,
          2002,
          2001
         ],
         "xaxis": "x",
         "y": [
          2.331460674157303,
          2.0018552875695734,
          4.7960954446854664,
          7.079691516709511,
          6.195011337868481,
          4.553385416666667,
          3.9597402597402596,
          3.1574074074074074,
          5.361027190332326,
          6.4945054945054945,
          10.130434782608695,
          12.126506024096386,
          7.4278606965174125,
          6.286821705426356,
          7.671428571428572,
          12.541237113402062,
          14.394849785407725,
          14.316666666666666,
          10.313559322033898,
          11.575418994413408
         ],
         "yaxis": "y"
        },
        {
         "alignmentgroup": "True",
         "hovertemplate": "Nationality=Nigeria<br>Year=%{x}<br>Rate=%{text}<extra></extra>",
         "legendgroup": "Nigeria",
         "marker": {
          "color": "#EF553B"
         },
         "name": "Nigeria",
         "offsetgroup": "Nigeria",
         "orientation": "v",
         "showlegend": true,
         "text": [
          2.103448275862069,
          1.9537037037037037,
          3.412140575079872,
          8.490322580645161,
          9.095588235294118,
          6.23828125,
          4.482490272373541,
          6.615853658536586,
          6.028901734104046,
          7.029411764705882,
          17.714285714285715,
          16.50877192982456,
          16.035087719298247,
          21.951219512195124,
          15.125,
          17.72972972972973,
          24.433962264150942,
          16.103896103896105,
          9.072,
          7.649681528662421
         ],
         "textposition": "auto",
         "texttemplate": "%{text:.3s}",
         "type": "bar",
         "x": [
          2020,
          2019,
          2018,
          2017,
          2016,
          2015,
          2014,
          2013,
          2012,
          2011,
          2010,
          2009,
          2008,
          2007,
          2006,
          2005,
          2004,
          2003,
          2002,
          2001
         ],
         "xaxis": "x",
         "y": [
          2.103448275862069,
          1.9537037037037037,
          3.412140575079872,
          8.490322580645161,
          9.095588235294118,
          6.23828125,
          4.482490272373541,
          6.615853658536586,
          6.028901734104046,
          7.029411764705882,
          17.714285714285715,
          16.50877192982456,
          16.035087719298247,
          21.951219512195124,
          15.125,
          17.72972972972973,
          24.433962264150942,
          16.103896103896105,
          9.072,
          7.649681528662421
         ],
         "yaxis": "y"
        },
        {
         "alignmentgroup": "True",
         "hovertemplate": "Nationality=Iraq<br>Year=%{x}<br>Rate=%{text}<extra></extra>",
         "legendgroup": "Iraq",
         "marker": {
          "color": "#00cc96"
         },
         "name": "Iraq",
         "offsetgroup": "Iraq",
         "orientation": "v",
         "showlegend": true,
         "text": [
          2.987477638640429,
          1.8743801652892562,
          2.5580404685835996,
          2.6072289156626507,
          5.254752851711027,
          2.874698795180723,
          1.32398753894081,
          1.112033195020747,
          1.256544502617801,
          1.821256038647343,
          2.022222222222222,
          4.764084507042254,
          2.7526652452025586,
          3.8550724637681157,
          8.504672897196262,
          10.58918918918919,
          24.57920792079208,
          2.045190713101161,
          0.33381787976326444,
          2.3462104488594555
         ],
         "textposition": "auto",
         "texttemplate": "%{text:.3s}",
         "type": "bar",
         "x": [
          2020,
          2019,
          2018,
          2017,
          2016,
          2015,
          2014,
          2013,
          2012,
          2011,
          2010,
          2009,
          2008,
          2007,
          2006,
          2005,
          2004,
          2003,
          2002,
          2001
         ],
         "xaxis": "x",
         "y": [
          2.987477638640429,
          1.8743801652892562,
          2.5580404685835996,
          2.6072289156626507,
          5.254752851711027,
          2.874698795180723,
          1.32398753894081,
          1.112033195020747,
          1.256544502617801,
          1.821256038647343,
          2.022222222222222,
          4.764084507042254,
          2.7526652452025586,
          3.8550724637681157,
          8.504672897196262,
          10.58918918918919,
          24.57920792079208,
          2.045190713101161,
          0.33381787976326444,
          2.3462104488594555
         ],
         "yaxis": "y"
        },
        {
         "alignmentgroup": "True",
         "hovertemplate": "Nationality=Syria<br>Year=%{x}<br>Rate=%{text}<extra></extra>",
         "legendgroup": "Syria",
         "marker": {
          "color": "#ab63fa"
         },
         "name": "Syria",
         "offsetgroup": "Syria",
         "orientation": "v",
         "showlegend": true,
         "text": [
          0.1721311475409836,
          0.02233643012453054,
          0.026331419520886953,
          0.03682918274289723,
          0.06077888218999511,
          0.13482800982800983,
          0.1698595146871009,
          0.19547325102880658,
          0.279651795429815,
          1.4489795918367347,
          4.15,
          3.1,
          3.466666666666667,
          3.372093023255814,
          4.073170731707317,
          9.159090909090908,
          9.371428571428572,
          10.933333333333334,
          3.4193548387096775,
          5.228571428571429
         ],
         "textposition": "auto",
         "texttemplate": "%{text:.3s}",
         "type": "bar",
         "x": [
          2020,
          2019,
          2018,
          2017,
          2016,
          2015,
          2014,
          2013,
          2012,
          2011,
          2010,
          2009,
          2008,
          2007,
          2006,
          2005,
          2004,
          2003,
          2002,
          2001
         ],
         "xaxis": "x",
         "y": [
          0.1721311475409836,
          0.02233643012453054,
          0.026331419520886953,
          0.03682918274289723,
          0.06077888218999511,
          0.13482800982800983,
          0.1698595146871009,
          0.19547325102880658,
          0.279651795429815,
          1.4489795918367347,
          4.15,
          3.1,
          3.466666666666667,
          3.372093023255814,
          4.073170731707317,
          9.159090909090908,
          9.371428571428572,
          10.933333333333334,
          3.4193548387096775,
          5.228571428571429
         ],
         "yaxis": "y"
        },
        {
         "alignmentgroup": "True",
         "hovertemplate": "Nationality=Morocco<br>Year=%{x}<br>Rate=%{text}<extra></extra>",
         "legendgroup": "Morocco",
         "marker": {
          "color": "#FFA15A"
         },
         "name": "Morocco",
         "offsetgroup": "Morocco",
         "orientation": "v",
         "showlegend": true,
         "text": [
          2.7777777777777777,
          2.85,
          4.5,
          10.375,
          67,
          4.9375,
          2.5,
          2.3125,
          3.3076923076923075,
          3.0454545454545454,
          2.5294117647058822,
          4.4,
          5.2,
          31,
          4.25,
          4.857142857142857,
          7.4,
          20.5,
          53
         ],
         "textposition": "auto",
         "texttemplate": "%{text:.3s}",
         "type": "bar",
         "x": [
          2020,
          2019,
          2018,
          2017,
          2016,
          2015,
          2014,
          2013,
          2012,
          2011,
          2010,
          2009,
          2008,
          2007,
          2005,
          2004,
          2003,
          2002,
          2001
         ],
         "xaxis": "x",
         "y": [
          2.7777777777777777,
          2.85,
          4.5,
          10.375,
          67,
          4.9375,
          2.5,
          2.3125,
          3.3076923076923075,
          3.0454545454545454,
          2.5294117647058822,
          4.4,
          5.2,
          31,
          4.25,
          4.857142857142857,
          7.4,
          20.5,
          53
         ],
         "yaxis": "y"
        },
        {
         "alignmentgroup": "True",
         "hovertemplate": "Nationality=Iran<br>Year=%{x}<br>Rate=%{text}<extra></extra>",
         "legendgroup": "Iran",
         "marker": {
          "color": "#19d3f3"
         },
         "name": "Iran",
         "offsetgroup": "Iran",
         "orientation": "v",
         "showlegend": true,
         "text": [
          0.836940836940837,
          0.5199712126664268,
          1.3066343042071198,
          1.131679389312977,
          1.633703920421299,
          0.7958062905641538,
          0.887390959555908,
          0.8458618071374335,
          0.9480701754385965,
          1.2136684996072271,
          2.3100591715976333,
          4.5344827586206895,
          3.259259259259259,
          3.754385964912281,
          5.806878306878307,
          6.922916666666667,
          12.810089020771514,
          13.514598540145986,
          4.223922114047288,
          5.910227272727273
         ],
         "textposition": "auto",
         "texttemplate": "%{text:.3s}",
         "type": "bar",
         "x": [
          2020,
          2019,
          2018,
          2017,
          2016,
          2015,
          2014,
          2013,
          2012,
          2011,
          2010,
          2009,
          2008,
          2007,
          2006,
          2005,
          2004,
          2003,
          2002,
          2001
         ],
         "xaxis": "x",
         "y": [
          0.836940836940837,
          0.5199712126664268,
          1.3066343042071198,
          1.131679389312977,
          1.633703920421299,
          0.7958062905641538,
          0.887390959555908,
          0.8458618071374335,
          0.9480701754385965,
          1.2136684996072271,
          2.3100591715976333,
          4.5344827586206895,
          3.259259259259259,
          3.754385964912281,
          5.806878306878307,
          6.922916666666667,
          12.810089020771514,
          13.514598540145986,
          4.223922114047288,
          5.910227272727273
         ],
         "yaxis": "y"
        },
        {
         "alignmentgroup": "True",
         "hovertemplate": "Nationality=Eritrea<br>Year=%{x}<br>Rate=%{text}<extra></extra>",
         "legendgroup": "Eritrea",
         "marker": {
          "color": "#FF6692"
         },
         "name": "Eritrea",
         "offsetgroup": "Eritrea",
         "orientation": "v",
         "showlegend": true,
         "text": [
          0.3422897196261682,
          0.15355805243445692,
          0.5130890052356021,
          0.2536945812807882,
          0.5034802784222738,
          1.1176100628930818,
          0.15681818181818183,
          0.2398568019093079,
          0.22906793048973143,
          0.4306784660766962,
          0.7437603993344426,
          1.0105932203389831,
          0.6711041503523885,
          0.6533767290480065,
          1.5993303571428572,
          1.4905149051490514,
          3.197080291970803,
          4.035433070866142,
          2.3405405405405406,
          2.737891737891738
         ],
         "textposition": "auto",
         "texttemplate": "%{text:.3s}",
         "type": "bar",
         "x": [
          2020,
          2019,
          2018,
          2017,
          2016,
          2015,
          2014,
          2013,
          2012,
          2011,
          2010,
          2009,
          2008,
          2007,
          2006,
          2005,
          2004,
          2003,
          2002,
          2001
         ],
         "xaxis": "x",
         "y": [
          0.3422897196261682,
          0.15355805243445692,
          0.5130890052356021,
          0.2536945812807882,
          0.5034802784222738,
          1.1176100628930818,
          0.15681818181818183,
          0.2398568019093079,
          0.22906793048973143,
          0.4306784660766962,
          0.7437603993344426,
          1.0105932203389831,
          0.6711041503523885,
          0.6533767290480065,
          1.5993303571428572,
          1.4905149051490514,
          3.197080291970803,
          4.035433070866142,
          2.3405405405405406,
          2.737891737891738
         ],
         "yaxis": "y"
        },
        {
         "alignmentgroup": "True",
         "hovertemplate": "Nationality=Serbia and Montenegro<br>Year=%{x}<br>Rate=%{text}<extra></extra>",
         "legendgroup": "Serbia and Montenegro",
         "marker": {
          "color": "#B6E880"
         },
         "name": "Serbia and Montenegro",
         "offsetgroup": "Serbia and Montenegro",
         "orientation": "v",
         "showlegend": true,
         "text": [
          8.454545454545455,
          12.773333333333333,
          8.829787234042554,
          6.826086956521739,
          2.757234726688103,
          3.8256198347107437
         ],
         "textposition": "auto",
         "texttemplate": "%{text:.3s}",
         "type": "bar",
         "x": [
          2006,
          2005,
          2004,
          2003,
          2002,
          2001
         ],
         "xaxis": "x",
         "y": [
          8.454545454545455,
          12.773333333333333,
          8.829787234042554,
          6.826086956521739,
          2.757234726688103,
          3.8256198347107437
         ],
         "yaxis": "y"
        }
       ],
       "layout": {
        "barmode": "relative",
        "legend": {
         "title": {
          "text": "Nationality"
         },
         "tracegroupgap": 0
        },
        "margin": {
         "t": 60
        },
        "template": {
         "data": {
          "bar": [
           {
            "error_x": {
             "color": "#2a3f5f"
            },
            "error_y": {
             "color": "#2a3f5f"
            },
            "marker": {
             "line": {
              "color": "#E5ECF6",
              "width": 0.5
             }
            },
            "type": "bar"
           }
          ],
          "barpolar": [
           {
            "marker": {
             "line": {
              "color": "#E5ECF6",
              "width": 0.5
             }
            },
            "type": "barpolar"
           }
          ],
          "carpet": [
           {
            "aaxis": {
             "endlinecolor": "#2a3f5f",
             "gridcolor": "white",
             "linecolor": "white",
             "minorgridcolor": "white",
             "startlinecolor": "#2a3f5f"
            },
            "baxis": {
             "endlinecolor": "#2a3f5f",
             "gridcolor": "white",
             "linecolor": "white",
             "minorgridcolor": "white",
             "startlinecolor": "#2a3f5f"
            },
            "type": "carpet"
           }
          ],
          "choropleth": [
           {
            "colorbar": {
             "outlinewidth": 0,
             "ticks": ""
            },
            "type": "choropleth"
           }
          ],
          "contour": [
           {
            "colorbar": {
             "outlinewidth": 0,
             "ticks": ""
            },
            "colorscale": [
             [
              0,
              "#0d0887"
             ],
             [
              0.1111111111111111,
              "#46039f"
             ],
             [
              0.2222222222222222,
              "#7201a8"
             ],
             [
              0.3333333333333333,
              "#9c179e"
             ],
             [
              0.4444444444444444,
              "#bd3786"
             ],
             [
              0.5555555555555556,
              "#d8576b"
             ],
             [
              0.6666666666666666,
              "#ed7953"
             ],
             [
              0.7777777777777778,
              "#fb9f3a"
             ],
             [
              0.8888888888888888,
              "#fdca26"
             ],
             [
              1,
              "#f0f921"
             ]
            ],
            "type": "contour"
           }
          ],
          "contourcarpet": [
           {
            "colorbar": {
             "outlinewidth": 0,
             "ticks": ""
            },
            "type": "contourcarpet"
           }
          ],
          "heatmap": [
           {
            "colorbar": {
             "outlinewidth": 0,
             "ticks": ""
            },
            "colorscale": [
             [
              0,
              "#0d0887"
             ],
             [
              0.1111111111111111,
              "#46039f"
             ],
             [
              0.2222222222222222,
              "#7201a8"
             ],
             [
              0.3333333333333333,
              "#9c179e"
             ],
             [
              0.4444444444444444,
              "#bd3786"
             ],
             [
              0.5555555555555556,
              "#d8576b"
             ],
             [
              0.6666666666666666,
              "#ed7953"
             ],
             [
              0.7777777777777778,
              "#fb9f3a"
             ],
             [
              0.8888888888888888,
              "#fdca26"
             ],
             [
              1,
              "#f0f921"
             ]
            ],
            "type": "heatmap"
           }
          ],
          "heatmapgl": [
           {
            "colorbar": {
             "outlinewidth": 0,
             "ticks": ""
            },
            "colorscale": [
             [
              0,
              "#0d0887"
             ],
             [
              0.1111111111111111,
              "#46039f"
             ],
             [
              0.2222222222222222,
              "#7201a8"
             ],
             [
              0.3333333333333333,
              "#9c179e"
             ],
             [
              0.4444444444444444,
              "#bd3786"
             ],
             [
              0.5555555555555556,
              "#d8576b"
             ],
             [
              0.6666666666666666,
              "#ed7953"
             ],
             [
              0.7777777777777778,
              "#fb9f3a"
             ],
             [
              0.8888888888888888,
              "#fdca26"
             ],
             [
              1,
              "#f0f921"
             ]
            ],
            "type": "heatmapgl"
           }
          ],
          "histogram": [
           {
            "marker": {
             "colorbar": {
              "outlinewidth": 0,
              "ticks": ""
             }
            },
            "type": "histogram"
           }
          ],
          "histogram2d": [
           {
            "colorbar": {
             "outlinewidth": 0,
             "ticks": ""
            },
            "colorscale": [
             [
              0,
              "#0d0887"
             ],
             [
              0.1111111111111111,
              "#46039f"
             ],
             [
              0.2222222222222222,
              "#7201a8"
             ],
             [
              0.3333333333333333,
              "#9c179e"
             ],
             [
              0.4444444444444444,
              "#bd3786"
             ],
             [
              0.5555555555555556,
              "#d8576b"
             ],
             [
              0.6666666666666666,
              "#ed7953"
             ],
             [
              0.7777777777777778,
              "#fb9f3a"
             ],
             [
              0.8888888888888888,
              "#fdca26"
             ],
             [
              1,
              "#f0f921"
             ]
            ],
            "type": "histogram2d"
           }
          ],
          "histogram2dcontour": [
           {
            "colorbar": {
             "outlinewidth": 0,
             "ticks": ""
            },
            "colorscale": [
             [
              0,
              "#0d0887"
             ],
             [
              0.1111111111111111,
              "#46039f"
             ],
             [
              0.2222222222222222,
              "#7201a8"
             ],
             [
              0.3333333333333333,
              "#9c179e"
             ],
             [
              0.4444444444444444,
              "#bd3786"
             ],
             [
              0.5555555555555556,
              "#d8576b"
             ],
             [
              0.6666666666666666,
              "#ed7953"
             ],
             [
              0.7777777777777778,
              "#fb9f3a"
             ],
             [
              0.8888888888888888,
              "#fdca26"
             ],
             [
              1,
              "#f0f921"
             ]
            ],
            "type": "histogram2dcontour"
           }
          ],
          "mesh3d": [
           {
            "colorbar": {
             "outlinewidth": 0,
             "ticks": ""
            },
            "type": "mesh3d"
           }
          ],
          "parcoords": [
           {
            "line": {
             "colorbar": {
              "outlinewidth": 0,
              "ticks": ""
             }
            },
            "type": "parcoords"
           }
          ],
          "pie": [
           {
            "automargin": true,
            "type": "pie"
           }
          ],
          "scatter": [
           {
            "marker": {
             "colorbar": {
              "outlinewidth": 0,
              "ticks": ""
             }
            },
            "type": "scatter"
           }
          ],
          "scatter3d": [
           {
            "line": {
             "colorbar": {
              "outlinewidth": 0,
              "ticks": ""
             }
            },
            "marker": {
             "colorbar": {
              "outlinewidth": 0,
              "ticks": ""
             }
            },
            "type": "scatter3d"
           }
          ],
          "scattercarpet": [
           {
            "marker": {
             "colorbar": {
              "outlinewidth": 0,
              "ticks": ""
             }
            },
            "type": "scattercarpet"
           }
          ],
          "scattergeo": [
           {
            "marker": {
             "colorbar": {
              "outlinewidth": 0,
              "ticks": ""
             }
            },
            "type": "scattergeo"
           }
          ],
          "scattergl": [
           {
            "marker": {
             "colorbar": {
              "outlinewidth": 0,
              "ticks": ""
             }
            },
            "type": "scattergl"
           }
          ],
          "scattermapbox": [
           {
            "marker": {
             "colorbar": {
              "outlinewidth": 0,
              "ticks": ""
             }
            },
            "type": "scattermapbox"
           }
          ],
          "scatterpolar": [
           {
            "marker": {
             "colorbar": {
              "outlinewidth": 0,
              "ticks": ""
             }
            },
            "type": "scatterpolar"
           }
          ],
          "scatterpolargl": [
           {
            "marker": {
             "colorbar": {
              "outlinewidth": 0,
              "ticks": ""
             }
            },
            "type": "scatterpolargl"
           }
          ],
          "scatterternary": [
           {
            "marker": {
             "colorbar": {
              "outlinewidth": 0,
              "ticks": ""
             }
            },
            "type": "scatterternary"
           }
          ],
          "surface": [
           {
            "colorbar": {
             "outlinewidth": 0,
             "ticks": ""
            },
            "colorscale": [
             [
              0,
              "#0d0887"
             ],
             [
              0.1111111111111111,
              "#46039f"
             ],
             [
              0.2222222222222222,
              "#7201a8"
             ],
             [
              0.3333333333333333,
              "#9c179e"
             ],
             [
              0.4444444444444444,
              "#bd3786"
             ],
             [
              0.5555555555555556,
              "#d8576b"
             ],
             [
              0.6666666666666666,
              "#ed7953"
             ],
             [
              0.7777777777777778,
              "#fb9f3a"
             ],
             [
              0.8888888888888888,
              "#fdca26"
             ],
             [
              1,
              "#f0f921"
             ]
            ],
            "type": "surface"
           }
          ],
          "table": [
           {
            "cells": {
             "fill": {
              "color": "#EBF0F8"
             },
             "line": {
              "color": "white"
             }
            },
            "header": {
             "fill": {
              "color": "#C8D4E3"
             },
             "line": {
              "color": "white"
             }
            },
            "type": "table"
           }
          ]
         },
         "layout": {
          "annotationdefaults": {
           "arrowcolor": "#2a3f5f",
           "arrowhead": 0,
           "arrowwidth": 1
          },
          "autotypenumbers": "strict",
          "coloraxis": {
           "colorbar": {
            "outlinewidth": 0,
            "ticks": ""
           }
          },
          "colorscale": {
           "diverging": [
            [
             0,
             "#8e0152"
            ],
            [
             0.1,
             "#c51b7d"
            ],
            [
             0.2,
             "#de77ae"
            ],
            [
             0.3,
             "#f1b6da"
            ],
            [
             0.4,
             "#fde0ef"
            ],
            [
             0.5,
             "#f7f7f7"
            ],
            [
             0.6,
             "#e6f5d0"
            ],
            [
             0.7,
             "#b8e186"
            ],
            [
             0.8,
             "#7fbc41"
            ],
            [
             0.9,
             "#4d9221"
            ],
            [
             1,
             "#276419"
            ]
           ],
           "sequential": [
            [
             0,
             "#0d0887"
            ],
            [
             0.1111111111111111,
             "#46039f"
            ],
            [
             0.2222222222222222,
             "#7201a8"
            ],
            [
             0.3333333333333333,
             "#9c179e"
            ],
            [
             0.4444444444444444,
             "#bd3786"
            ],
            [
             0.5555555555555556,
             "#d8576b"
            ],
            [
             0.6666666666666666,
             "#ed7953"
            ],
            [
             0.7777777777777778,
             "#fb9f3a"
            ],
            [
             0.8888888888888888,
             "#fdca26"
            ],
            [
             1,
             "#f0f921"
            ]
           ],
           "sequentialminus": [
            [
             0,
             "#0d0887"
            ],
            [
             0.1111111111111111,
             "#46039f"
            ],
            [
             0.2222222222222222,
             "#7201a8"
            ],
            [
             0.3333333333333333,
             "#9c179e"
            ],
            [
             0.4444444444444444,
             "#bd3786"
            ],
            [
             0.5555555555555556,
             "#d8576b"
            ],
            [
             0.6666666666666666,
             "#ed7953"
            ],
            [
             0.7777777777777778,
             "#fb9f3a"
            ],
            [
             0.8888888888888888,
             "#fdca26"
            ],
            [
             1,
             "#f0f921"
            ]
           ]
          },
          "colorway": [
           "#636efa",
           "#EF553B",
           "#00cc96",
           "#ab63fa",
           "#FFA15A",
           "#19d3f3",
           "#FF6692",
           "#B6E880",
           "#FF97FF",
           "#FECB52"
          ],
          "font": {
           "color": "#2a3f5f"
          },
          "geo": {
           "bgcolor": "white",
           "lakecolor": "white",
           "landcolor": "#E5ECF6",
           "showlakes": true,
           "showland": true,
           "subunitcolor": "white"
          },
          "hoverlabel": {
           "align": "left"
          },
          "hovermode": "closest",
          "mapbox": {
           "style": "light"
          },
          "paper_bgcolor": "white",
          "plot_bgcolor": "#E5ECF6",
          "polar": {
           "angularaxis": {
            "gridcolor": "white",
            "linecolor": "white",
            "ticks": ""
           },
           "bgcolor": "#E5ECF6",
           "radialaxis": {
            "gridcolor": "white",
            "linecolor": "white",
            "ticks": ""
           }
          },
          "scene": {
           "xaxis": {
            "backgroundcolor": "#E5ECF6",
            "gridcolor": "white",
            "gridwidth": 2,
            "linecolor": "white",
            "showbackground": true,
            "ticks": "",
            "zerolinecolor": "white"
           },
           "yaxis": {
            "backgroundcolor": "#E5ECF6",
            "gridcolor": "white",
            "gridwidth": 2,
            "linecolor": "white",
            "showbackground": true,
            "ticks": "",
            "zerolinecolor": "white"
           },
           "zaxis": {
            "backgroundcolor": "#E5ECF6",
            "gridcolor": "white",
            "gridwidth": 2,
            "linecolor": "white",
            "showbackground": true,
            "ticks": "",
            "zerolinecolor": "white"
           }
          },
          "shapedefaults": {
           "line": {
            "color": "#2a3f5f"
           }
          },
          "ternary": {
           "aaxis": {
            "gridcolor": "white",
            "linecolor": "white",
            "ticks": ""
           },
           "baxis": {
            "gridcolor": "white",
            "linecolor": "white",
            "ticks": ""
           },
           "bgcolor": "#E5ECF6",
           "caxis": {
            "gridcolor": "white",
            "linecolor": "white",
            "ticks": ""
           }
          },
          "title": {
           "x": 0.05
          },
          "xaxis": {
           "automargin": true,
           "gridcolor": "white",
           "linecolor": "white",
           "ticks": "",
           "title": {
            "standoff": 15
           },
           "zerolinecolor": "white",
           "zerolinewidth": 2
          },
          "yaxis": {
           "automargin": true,
           "gridcolor": "white",
           "linecolor": "white",
           "ticks": "",
           "title": {
            "standoff": 15
           },
           "zerolinecolor": "white",
           "zerolinewidth": 2
          }
         }
        },
        "title": {
         "text": "Rate between Rejections and Approvals on Asylum Applications ",
         "x": 0.5,
         "xanchor": "center",
         "y": 0.95,
         "yanchor": "top"
        },
        "uniformtext": {
         "minsize": 25,
         "mode": "hide"
        },
        "xaxis": {
         "anchor": "y",
         "domain": [
          0,
          1
         ],
         "title": {
          "text": "Year"
         }
        },
        "yaxis": {
         "anchor": "x",
         "domain": [
          0,
          1
         ],
         "title": {
          "text": "Rate"
         }
        }
       }
      },
      "text/html": [
       "<div>                            <div id=\"20934584-0077-46a3-b461-d26e3169f60b\" class=\"plotly-graph-div\" style=\"height:525px; width:100%;\"></div>            <script type=\"text/javascript\">                require([\"plotly\"], function(Plotly) {                    window.PLOTLYENV=window.PLOTLYENV || {};                                    if (document.getElementById(\"20934584-0077-46a3-b461-d26e3169f60b\")) {                    Plotly.newPlot(                        \"20934584-0077-46a3-b461-d26e3169f60b\",                        [{\"alignmentgroup\": \"True\", \"hovertemplate\": \"Nationality=Pakistan<br>Year=%{x}<br>Rate=%{text}<extra></extra>\", \"legendgroup\": \"Pakistan\", \"marker\": {\"color\": \"#636efa\"}, \"name\": \"Pakistan\", \"offsetgroup\": \"Pakistan\", \"orientation\": \"v\", \"showlegend\": true, \"text\": [2.331460674157303, 2.0018552875695734, 4.7960954446854664, 7.079691516709511, 6.195011337868481, 4.553385416666667, 3.9597402597402596, 3.1574074074074074, 5.361027190332326, 6.4945054945054945, 10.130434782608695, 12.126506024096386, 7.4278606965174125, 6.286821705426356, 7.671428571428572, 12.541237113402062, 14.394849785407725, 14.316666666666666, 10.313559322033898, 11.575418994413408], \"textposition\": \"auto\", \"texttemplate\": \"%{text:.3s}\", \"type\": \"bar\", \"x\": [2020, 2019, 2018, 2017, 2016, 2015, 2014, 2013, 2012, 2011, 2010, 2009, 2008, 2007, 2006, 2005, 2004, 2003, 2002, 2001], \"xaxis\": \"x\", \"y\": [2.331460674157303, 2.0018552875695734, 4.7960954446854664, 7.079691516709511, 6.195011337868481, 4.553385416666667, 3.9597402597402596, 3.1574074074074074, 5.361027190332326, 6.4945054945054945, 10.130434782608695, 12.126506024096386, 7.4278606965174125, 6.286821705426356, 7.671428571428572, 12.541237113402062, 14.394849785407725, 14.316666666666666, 10.313559322033898, 11.575418994413408], \"yaxis\": \"y\"}, {\"alignmentgroup\": \"True\", \"hovertemplate\": \"Nationality=Nigeria<br>Year=%{x}<br>Rate=%{text}<extra></extra>\", \"legendgroup\": \"Nigeria\", \"marker\": {\"color\": \"#EF553B\"}, \"name\": \"Nigeria\", \"offsetgroup\": \"Nigeria\", \"orientation\": \"v\", \"showlegend\": true, \"text\": [2.103448275862069, 1.9537037037037037, 3.412140575079872, 8.490322580645161, 9.095588235294118, 6.23828125, 4.482490272373541, 6.615853658536586, 6.028901734104046, 7.029411764705882, 17.714285714285715, 16.50877192982456, 16.035087719298247, 21.951219512195124, 15.125, 17.72972972972973, 24.433962264150942, 16.103896103896105, 9.072, 7.649681528662421], \"textposition\": \"auto\", \"texttemplate\": \"%{text:.3s}\", \"type\": \"bar\", \"x\": [2020, 2019, 2018, 2017, 2016, 2015, 2014, 2013, 2012, 2011, 2010, 2009, 2008, 2007, 2006, 2005, 2004, 2003, 2002, 2001], \"xaxis\": \"x\", \"y\": [2.103448275862069, 1.9537037037037037, 3.412140575079872, 8.490322580645161, 9.095588235294118, 6.23828125, 4.482490272373541, 6.615853658536586, 6.028901734104046, 7.029411764705882, 17.714285714285715, 16.50877192982456, 16.035087719298247, 21.951219512195124, 15.125, 17.72972972972973, 24.433962264150942, 16.103896103896105, 9.072, 7.649681528662421], \"yaxis\": \"y\"}, {\"alignmentgroup\": \"True\", \"hovertemplate\": \"Nationality=Iraq<br>Year=%{x}<br>Rate=%{text}<extra></extra>\", \"legendgroup\": \"Iraq\", \"marker\": {\"color\": \"#00cc96\"}, \"name\": \"Iraq\", \"offsetgroup\": \"Iraq\", \"orientation\": \"v\", \"showlegend\": true, \"text\": [2.987477638640429, 1.8743801652892562, 2.5580404685835996, 2.6072289156626507, 5.254752851711027, 2.874698795180723, 1.32398753894081, 1.112033195020747, 1.256544502617801, 1.821256038647343, 2.022222222222222, 4.764084507042254, 2.7526652452025586, 3.8550724637681157, 8.504672897196262, 10.58918918918919, 24.57920792079208, 2.045190713101161, 0.33381787976326444, 2.3462104488594555], \"textposition\": \"auto\", \"texttemplate\": \"%{text:.3s}\", \"type\": \"bar\", \"x\": [2020, 2019, 2018, 2017, 2016, 2015, 2014, 2013, 2012, 2011, 2010, 2009, 2008, 2007, 2006, 2005, 2004, 2003, 2002, 2001], \"xaxis\": \"x\", \"y\": [2.987477638640429, 1.8743801652892562, 2.5580404685835996, 2.6072289156626507, 5.254752851711027, 2.874698795180723, 1.32398753894081, 1.112033195020747, 1.256544502617801, 1.821256038647343, 2.022222222222222, 4.764084507042254, 2.7526652452025586, 3.8550724637681157, 8.504672897196262, 10.58918918918919, 24.57920792079208, 2.045190713101161, 0.33381787976326444, 2.3462104488594555], \"yaxis\": \"y\"}, {\"alignmentgroup\": \"True\", \"hovertemplate\": \"Nationality=Syria<br>Year=%{x}<br>Rate=%{text}<extra></extra>\", \"legendgroup\": \"Syria\", \"marker\": {\"color\": \"#ab63fa\"}, \"name\": \"Syria\", \"offsetgroup\": \"Syria\", \"orientation\": \"v\", \"showlegend\": true, \"text\": [0.1721311475409836, 0.02233643012453054, 0.026331419520886953, 0.03682918274289723, 0.06077888218999511, 0.13482800982800983, 0.1698595146871009, 0.19547325102880658, 0.279651795429815, 1.4489795918367347, 4.15, 3.1, 3.466666666666667, 3.372093023255814, 4.073170731707317, 9.159090909090908, 9.371428571428572, 10.933333333333334, 3.4193548387096775, 5.228571428571429], \"textposition\": \"auto\", \"texttemplate\": \"%{text:.3s}\", \"type\": \"bar\", \"x\": [2020, 2019, 2018, 2017, 2016, 2015, 2014, 2013, 2012, 2011, 2010, 2009, 2008, 2007, 2006, 2005, 2004, 2003, 2002, 2001], \"xaxis\": \"x\", \"y\": [0.1721311475409836, 0.02233643012453054, 0.026331419520886953, 0.03682918274289723, 0.06077888218999511, 0.13482800982800983, 0.1698595146871009, 0.19547325102880658, 0.279651795429815, 1.4489795918367347, 4.15, 3.1, 3.466666666666667, 3.372093023255814, 4.073170731707317, 9.159090909090908, 9.371428571428572, 10.933333333333334, 3.4193548387096775, 5.228571428571429], \"yaxis\": \"y\"}, {\"alignmentgroup\": \"True\", \"hovertemplate\": \"Nationality=Morocco<br>Year=%{x}<br>Rate=%{text}<extra></extra>\", \"legendgroup\": \"Morocco\", \"marker\": {\"color\": \"#FFA15A\"}, \"name\": \"Morocco\", \"offsetgroup\": \"Morocco\", \"orientation\": \"v\", \"showlegend\": true, \"text\": [2.7777777777777777, 2.85, 4.5, 10.375, 67.0, 4.9375, 2.5, 2.3125, 3.3076923076923075, 3.0454545454545454, 2.5294117647058822, 4.4, 5.2, 31.0, 4.25, 4.857142857142857, 7.4, 20.5, 53.0], \"textposition\": \"auto\", \"texttemplate\": \"%{text:.3s}\", \"type\": \"bar\", \"x\": [2020, 2019, 2018, 2017, 2016, 2015, 2014, 2013, 2012, 2011, 2010, 2009, 2008, 2007, 2005, 2004, 2003, 2002, 2001], \"xaxis\": \"x\", \"y\": [2.7777777777777777, 2.85, 4.5, 10.375, 67.0, 4.9375, 2.5, 2.3125, 3.3076923076923075, 3.0454545454545454, 2.5294117647058822, 4.4, 5.2, 31.0, 4.25, 4.857142857142857, 7.4, 20.5, 53.0], \"yaxis\": \"y\"}, {\"alignmentgroup\": \"True\", \"hovertemplate\": \"Nationality=Iran<br>Year=%{x}<br>Rate=%{text}<extra></extra>\", \"legendgroup\": \"Iran\", \"marker\": {\"color\": \"#19d3f3\"}, \"name\": \"Iran\", \"offsetgroup\": \"Iran\", \"orientation\": \"v\", \"showlegend\": true, \"text\": [0.836940836940837, 0.5199712126664268, 1.3066343042071198, 1.131679389312977, 1.633703920421299, 0.7958062905641538, 0.887390959555908, 0.8458618071374335, 0.9480701754385965, 1.2136684996072271, 2.3100591715976333, 4.5344827586206895, 3.259259259259259, 3.754385964912281, 5.806878306878307, 6.922916666666667, 12.810089020771514, 13.514598540145986, 4.223922114047288, 5.910227272727273], \"textposition\": \"auto\", \"texttemplate\": \"%{text:.3s}\", \"type\": \"bar\", \"x\": [2020, 2019, 2018, 2017, 2016, 2015, 2014, 2013, 2012, 2011, 2010, 2009, 2008, 2007, 2006, 2005, 2004, 2003, 2002, 2001], \"xaxis\": \"x\", \"y\": [0.836940836940837, 0.5199712126664268, 1.3066343042071198, 1.131679389312977, 1.633703920421299, 0.7958062905641538, 0.887390959555908, 0.8458618071374335, 0.9480701754385965, 1.2136684996072271, 2.3100591715976333, 4.5344827586206895, 3.259259259259259, 3.754385964912281, 5.806878306878307, 6.922916666666667, 12.810089020771514, 13.514598540145986, 4.223922114047288, 5.910227272727273], \"yaxis\": \"y\"}, {\"alignmentgroup\": \"True\", \"hovertemplate\": \"Nationality=Eritrea<br>Year=%{x}<br>Rate=%{text}<extra></extra>\", \"legendgroup\": \"Eritrea\", \"marker\": {\"color\": \"#FF6692\"}, \"name\": \"Eritrea\", \"offsetgroup\": \"Eritrea\", \"orientation\": \"v\", \"showlegend\": true, \"text\": [0.3422897196261682, 0.15355805243445692, 0.5130890052356021, 0.2536945812807882, 0.5034802784222738, 1.1176100628930818, 0.15681818181818183, 0.2398568019093079, 0.22906793048973143, 0.4306784660766962, 0.7437603993344426, 1.0105932203389831, 0.6711041503523885, 0.6533767290480065, 1.5993303571428572, 1.4905149051490514, 3.197080291970803, 4.035433070866142, 2.3405405405405406, 2.737891737891738], \"textposition\": \"auto\", \"texttemplate\": \"%{text:.3s}\", \"type\": \"bar\", \"x\": [2020, 2019, 2018, 2017, 2016, 2015, 2014, 2013, 2012, 2011, 2010, 2009, 2008, 2007, 2006, 2005, 2004, 2003, 2002, 2001], \"xaxis\": \"x\", \"y\": [0.3422897196261682, 0.15355805243445692, 0.5130890052356021, 0.2536945812807882, 0.5034802784222738, 1.1176100628930818, 0.15681818181818183, 0.2398568019093079, 0.22906793048973143, 0.4306784660766962, 0.7437603993344426, 1.0105932203389831, 0.6711041503523885, 0.6533767290480065, 1.5993303571428572, 1.4905149051490514, 3.197080291970803, 4.035433070866142, 2.3405405405405406, 2.737891737891738], \"yaxis\": \"y\"}, {\"alignmentgroup\": \"True\", \"hovertemplate\": \"Nationality=Serbia and Montenegro<br>Year=%{x}<br>Rate=%{text}<extra></extra>\", \"legendgroup\": \"Serbia and Montenegro\", \"marker\": {\"color\": \"#B6E880\"}, \"name\": \"Serbia and Montenegro\", \"offsetgroup\": \"Serbia and Montenegro\", \"orientation\": \"v\", \"showlegend\": true, \"text\": [8.454545454545455, 12.773333333333333, 8.829787234042554, 6.826086956521739, 2.757234726688103, 3.8256198347107437], \"textposition\": \"auto\", \"texttemplate\": \"%{text:.3s}\", \"type\": \"bar\", \"x\": [2006, 2005, 2004, 2003, 2002, 2001], \"xaxis\": \"x\", \"y\": [8.454545454545455, 12.773333333333333, 8.829787234042554, 6.826086956521739, 2.757234726688103, 3.8256198347107437], \"yaxis\": \"y\"}],                        {\"barmode\": \"relative\", \"legend\": {\"title\": {\"text\": \"Nationality\"}, \"tracegroupgap\": 0}, \"margin\": {\"t\": 60}, \"template\": {\"data\": {\"bar\": [{\"error_x\": {\"color\": \"#2a3f5f\"}, \"error_y\": {\"color\": \"#2a3f5f\"}, \"marker\": {\"line\": {\"color\": \"#E5ECF6\", \"width\": 0.5}}, \"type\": \"bar\"}], \"barpolar\": [{\"marker\": {\"line\": {\"color\": \"#E5ECF6\", \"width\": 0.5}}, \"type\": \"barpolar\"}], \"carpet\": [{\"aaxis\": {\"endlinecolor\": \"#2a3f5f\", \"gridcolor\": \"white\", \"linecolor\": \"white\", \"minorgridcolor\": \"white\", \"startlinecolor\": \"#2a3f5f\"}, \"baxis\": {\"endlinecolor\": \"#2a3f5f\", \"gridcolor\": \"white\", \"linecolor\": \"white\", \"minorgridcolor\": \"white\", \"startlinecolor\": \"#2a3f5f\"}, \"type\": \"carpet\"}], \"choropleth\": [{\"colorbar\": {\"outlinewidth\": 0, \"ticks\": \"\"}, \"type\": \"choropleth\"}], \"contour\": [{\"colorbar\": {\"outlinewidth\": 0, \"ticks\": \"\"}, \"colorscale\": [[0.0, \"#0d0887\"], [0.1111111111111111, \"#46039f\"], [0.2222222222222222, \"#7201a8\"], [0.3333333333333333, \"#9c179e\"], [0.4444444444444444, \"#bd3786\"], [0.5555555555555556, \"#d8576b\"], [0.6666666666666666, \"#ed7953\"], [0.7777777777777778, \"#fb9f3a\"], [0.8888888888888888, \"#fdca26\"], [1.0, \"#f0f921\"]], \"type\": \"contour\"}], \"contourcarpet\": [{\"colorbar\": {\"outlinewidth\": 0, \"ticks\": \"\"}, \"type\": \"contourcarpet\"}], \"heatmap\": [{\"colorbar\": {\"outlinewidth\": 0, \"ticks\": \"\"}, \"colorscale\": [[0.0, \"#0d0887\"], [0.1111111111111111, \"#46039f\"], [0.2222222222222222, \"#7201a8\"], [0.3333333333333333, \"#9c179e\"], [0.4444444444444444, \"#bd3786\"], [0.5555555555555556, \"#d8576b\"], [0.6666666666666666, \"#ed7953\"], [0.7777777777777778, \"#fb9f3a\"], [0.8888888888888888, \"#fdca26\"], [1.0, \"#f0f921\"]], \"type\": \"heatmap\"}], \"heatmapgl\": [{\"colorbar\": {\"outlinewidth\": 0, \"ticks\": \"\"}, \"colorscale\": [[0.0, \"#0d0887\"], [0.1111111111111111, \"#46039f\"], [0.2222222222222222, \"#7201a8\"], [0.3333333333333333, \"#9c179e\"], [0.4444444444444444, \"#bd3786\"], [0.5555555555555556, \"#d8576b\"], [0.6666666666666666, \"#ed7953\"], [0.7777777777777778, \"#fb9f3a\"], [0.8888888888888888, \"#fdca26\"], [1.0, \"#f0f921\"]], \"type\": \"heatmapgl\"}], \"histogram\": [{\"marker\": {\"colorbar\": {\"outlinewidth\": 0, \"ticks\": \"\"}}, \"type\": \"histogram\"}], \"histogram2d\": [{\"colorbar\": {\"outlinewidth\": 0, \"ticks\": \"\"}, \"colorscale\": [[0.0, \"#0d0887\"], [0.1111111111111111, \"#46039f\"], [0.2222222222222222, \"#7201a8\"], [0.3333333333333333, \"#9c179e\"], [0.4444444444444444, \"#bd3786\"], [0.5555555555555556, \"#d8576b\"], [0.6666666666666666, \"#ed7953\"], [0.7777777777777778, \"#fb9f3a\"], [0.8888888888888888, \"#fdca26\"], [1.0, \"#f0f921\"]], \"type\": \"histogram2d\"}], \"histogram2dcontour\": [{\"colorbar\": {\"outlinewidth\": 0, \"ticks\": \"\"}, \"colorscale\": [[0.0, \"#0d0887\"], [0.1111111111111111, \"#46039f\"], [0.2222222222222222, \"#7201a8\"], [0.3333333333333333, \"#9c179e\"], [0.4444444444444444, \"#bd3786\"], [0.5555555555555556, \"#d8576b\"], [0.6666666666666666, \"#ed7953\"], [0.7777777777777778, \"#fb9f3a\"], [0.8888888888888888, \"#fdca26\"], [1.0, \"#f0f921\"]], \"type\": \"histogram2dcontour\"}], \"mesh3d\": [{\"colorbar\": {\"outlinewidth\": 0, \"ticks\": \"\"}, \"type\": \"mesh3d\"}], \"parcoords\": [{\"line\": {\"colorbar\": {\"outlinewidth\": 0, \"ticks\": \"\"}}, \"type\": \"parcoords\"}], \"pie\": [{\"automargin\": true, \"type\": \"pie\"}], \"scatter\": [{\"marker\": {\"colorbar\": {\"outlinewidth\": 0, \"ticks\": \"\"}}, \"type\": \"scatter\"}], \"scatter3d\": [{\"line\": {\"colorbar\": {\"outlinewidth\": 0, \"ticks\": \"\"}}, \"marker\": {\"colorbar\": {\"outlinewidth\": 0, \"ticks\": \"\"}}, \"type\": \"scatter3d\"}], \"scattercarpet\": [{\"marker\": {\"colorbar\": {\"outlinewidth\": 0, \"ticks\": \"\"}}, \"type\": \"scattercarpet\"}], \"scattergeo\": [{\"marker\": {\"colorbar\": {\"outlinewidth\": 0, \"ticks\": \"\"}}, \"type\": \"scattergeo\"}], \"scattergl\": [{\"marker\": {\"colorbar\": {\"outlinewidth\": 0, \"ticks\": \"\"}}, \"type\": \"scattergl\"}], \"scattermapbox\": [{\"marker\": {\"colorbar\": {\"outlinewidth\": 0, \"ticks\": \"\"}}, \"type\": \"scattermapbox\"}], \"scatterpolar\": [{\"marker\": {\"colorbar\": {\"outlinewidth\": 0, \"ticks\": \"\"}}, \"type\": \"scatterpolar\"}], \"scatterpolargl\": [{\"marker\": {\"colorbar\": {\"outlinewidth\": 0, \"ticks\": \"\"}}, \"type\": \"scatterpolargl\"}], \"scatterternary\": [{\"marker\": {\"colorbar\": {\"outlinewidth\": 0, \"ticks\": \"\"}}, \"type\": \"scatterternary\"}], \"surface\": [{\"colorbar\": {\"outlinewidth\": 0, \"ticks\": \"\"}, \"colorscale\": [[0.0, \"#0d0887\"], [0.1111111111111111, \"#46039f\"], [0.2222222222222222, \"#7201a8\"], [0.3333333333333333, \"#9c179e\"], [0.4444444444444444, \"#bd3786\"], [0.5555555555555556, \"#d8576b\"], [0.6666666666666666, \"#ed7953\"], [0.7777777777777778, \"#fb9f3a\"], [0.8888888888888888, \"#fdca26\"], [1.0, \"#f0f921\"]], \"type\": \"surface\"}], \"table\": [{\"cells\": {\"fill\": {\"color\": \"#EBF0F8\"}, \"line\": {\"color\": \"white\"}}, \"header\": {\"fill\": {\"color\": \"#C8D4E3\"}, \"line\": {\"color\": \"white\"}}, \"type\": \"table\"}]}, \"layout\": {\"annotationdefaults\": {\"arrowcolor\": \"#2a3f5f\", \"arrowhead\": 0, \"arrowwidth\": 1}, \"autotypenumbers\": \"strict\", \"coloraxis\": {\"colorbar\": {\"outlinewidth\": 0, \"ticks\": \"\"}}, \"colorscale\": {\"diverging\": [[0, \"#8e0152\"], [0.1, \"#c51b7d\"], [0.2, \"#de77ae\"], [0.3, \"#f1b6da\"], [0.4, \"#fde0ef\"], [0.5, \"#f7f7f7\"], [0.6, \"#e6f5d0\"], [0.7, \"#b8e186\"], [0.8, \"#7fbc41\"], [0.9, \"#4d9221\"], [1, \"#276419\"]], \"sequential\": [[0.0, \"#0d0887\"], [0.1111111111111111, \"#46039f\"], [0.2222222222222222, \"#7201a8\"], [0.3333333333333333, \"#9c179e\"], [0.4444444444444444, \"#bd3786\"], [0.5555555555555556, \"#d8576b\"], [0.6666666666666666, \"#ed7953\"], [0.7777777777777778, \"#fb9f3a\"], [0.8888888888888888, \"#fdca26\"], [1.0, \"#f0f921\"]], \"sequentialminus\": [[0.0, \"#0d0887\"], [0.1111111111111111, \"#46039f\"], [0.2222222222222222, \"#7201a8\"], [0.3333333333333333, \"#9c179e\"], [0.4444444444444444, \"#bd3786\"], [0.5555555555555556, \"#d8576b\"], [0.6666666666666666, \"#ed7953\"], [0.7777777777777778, \"#fb9f3a\"], [0.8888888888888888, \"#fdca26\"], [1.0, \"#f0f921\"]]}, \"colorway\": [\"#636efa\", \"#EF553B\", \"#00cc96\", \"#ab63fa\", \"#FFA15A\", \"#19d3f3\", \"#FF6692\", \"#B6E880\", \"#FF97FF\", \"#FECB52\"], \"font\": {\"color\": \"#2a3f5f\"}, \"geo\": {\"bgcolor\": \"white\", \"lakecolor\": \"white\", \"landcolor\": \"#E5ECF6\", \"showlakes\": true, \"showland\": true, \"subunitcolor\": \"white\"}, \"hoverlabel\": {\"align\": \"left\"}, \"hovermode\": \"closest\", \"mapbox\": {\"style\": \"light\"}, \"paper_bgcolor\": \"white\", \"plot_bgcolor\": \"#E5ECF6\", \"polar\": {\"angularaxis\": {\"gridcolor\": \"white\", \"linecolor\": \"white\", \"ticks\": \"\"}, \"bgcolor\": \"#E5ECF6\", \"radialaxis\": {\"gridcolor\": \"white\", \"linecolor\": \"white\", \"ticks\": \"\"}}, \"scene\": {\"xaxis\": {\"backgroundcolor\": \"#E5ECF6\", \"gridcolor\": \"white\", \"gridwidth\": 2, \"linecolor\": \"white\", \"showbackground\": true, \"ticks\": \"\", \"zerolinecolor\": \"white\"}, \"yaxis\": {\"backgroundcolor\": \"#E5ECF6\", \"gridcolor\": \"white\", \"gridwidth\": 2, \"linecolor\": \"white\", \"showbackground\": true, \"ticks\": \"\", \"zerolinecolor\": \"white\"}, \"zaxis\": {\"backgroundcolor\": \"#E5ECF6\", \"gridcolor\": \"white\", \"gridwidth\": 2, \"linecolor\": \"white\", \"showbackground\": true, \"ticks\": \"\", \"zerolinecolor\": \"white\"}}, \"shapedefaults\": {\"line\": {\"color\": \"#2a3f5f\"}}, \"ternary\": {\"aaxis\": {\"gridcolor\": \"white\", \"linecolor\": \"white\", \"ticks\": \"\"}, \"baxis\": {\"gridcolor\": \"white\", \"linecolor\": \"white\", \"ticks\": \"\"}, \"bgcolor\": \"#E5ECF6\", \"caxis\": {\"gridcolor\": \"white\", \"linecolor\": \"white\", \"ticks\": \"\"}}, \"title\": {\"x\": 0.05}, \"xaxis\": {\"automargin\": true, \"gridcolor\": \"white\", \"linecolor\": \"white\", \"ticks\": \"\", \"title\": {\"standoff\": 15}, \"zerolinecolor\": \"white\", \"zerolinewidth\": 2}, \"yaxis\": {\"automargin\": true, \"gridcolor\": \"white\", \"linecolor\": \"white\", \"ticks\": \"\", \"title\": {\"standoff\": 15}, \"zerolinecolor\": \"white\", \"zerolinewidth\": 2}}}, \"title\": {\"text\": \"Rate between Rejections and Approvals on Asylum Applications \", \"x\": 0.5, \"xanchor\": \"center\", \"y\": 0.95, \"yanchor\": \"top\"}, \"uniformtext\": {\"minsize\": 25, \"mode\": \"hide\"}, \"xaxis\": {\"anchor\": \"y\", \"domain\": [0.0, 1.0], \"title\": {\"text\": \"Year\"}}, \"yaxis\": {\"anchor\": \"x\", \"domain\": [0.0, 1.0], \"title\": {\"text\": \"Rate\"}}},                        {\"responsive\": true}                    ).then(function(){\n",
       "                            \n",
       "var gd = document.getElementById('20934584-0077-46a3-b461-d26e3169f60b');\n",
       "var x = new MutationObserver(function (mutations, observer) {{\n",
       "        var display = window.getComputedStyle(gd).display;\n",
       "        if (!display || display === 'none') {{\n",
       "            console.log([gd, 'removed!']);\n",
       "            Plotly.purge(gd);\n",
       "            observer.disconnect();\n",
       "        }}\n",
       "}});\n",
       "\n",
       "// Listen for the removal of the full notebook cells\n",
       "var notebookContainer = gd.closest('#notebook-container');\n",
       "if (notebookContainer) {{\n",
       "    x.observe(notebookContainer, {childList: true});\n",
       "}}\n",
       "\n",
       "// Listen for the clearing of the current output cell\n",
       "var outputEl = gd.closest('.output');\n",
       "if (outputEl) {{\n",
       "    x.observe(outputEl, {childList: true});\n",
       "}}\n",
       "\n",
       "                        })                };                });            </script>        </div>"
      ]
     },
     "metadata": {},
     "output_type": "display_data"
    }
   ],
   "source": [
    "import matplotlib.pyplot as plt\n",
    "import plotly.express as px\n",
    "\n",
    "\n",
    "\n",
    "df_totals['Year'] = df_totals['Year'].astype(int)\n",
    "df_totals = df_totals.sort_values('Year', ascending=False)\n",
    "\n",
    "fig = px.bar(df_totals, x=\"Year\", y=\"Ratio\", text='Ratio', color = 'Nationality', labels={\n",
    "                     \"year\": \"Year\",\n",
    "                     \"Ratio\": \"Rate\"\n",
    "                 },)\n",
    "fig.update_layout(uniformtext_minsize=8, uniformtext_mode='hide',   title={\n",
    "        'text': \"Rate between Rejections and Approvals on Asylum Applications \",\n",
    "        'y':0.95,\n",
    "        'x':0.5,\n",
    "        'xanchor': 'center',\n",
    "        'yanchor': 'top'})\n",
    "fig.update_traces(texttemplate='%{text:.3s}')\n",
    "fig.update_layout(uniformtext_minsize=25)\n",
    "fig.show()"
   ]
  },
  {
   "cell_type": "code",
   "execution_count": 190,
   "metadata": {},
   "outputs": [
    {
     "data": {
      "text/html": [
       "<div>\n",
       "<style scoped>\n",
       "    .dataframe tbody tr th:only-of-type {\n",
       "        vertical-align: middle;\n",
       "    }\n",
       "\n",
       "    .dataframe tbody tr th {\n",
       "        vertical-align: top;\n",
       "    }\n",
       "\n",
       "    .dataframe thead th {\n",
       "        text-align: right;\n",
       "    }\n",
       "</style>\n",
       "<table border=\"1\" class=\"dataframe\">\n",
       "  <thead>\n",
       "    <tr style=\"text-align: right;\">\n",
       "      <th></th>\n",
       "      <th>Nationality</th>\n",
       "      <th>Case outcome group</th>\n",
       "      <th>Year</th>\n",
       "      <th>Decisions</th>\n",
       "      <th>Accepted</th>\n",
       "      <th>ratio</th>\n",
       "      <th>Ratio</th>\n",
       "    </tr>\n",
       "  </thead>\n",
       "  <tbody>\n",
       "    <tr>\n",
       "      <th>256</th>\n",
       "      <td>Syria</td>\n",
       "      <td>Withdrawn</td>\n",
       "      <td>2020</td>\n",
       "      <td>0.0</td>\n",
       "      <td>0.0</td>\n",
       "      <td>NaN</td>\n",
       "      <td>NaN</td>\n",
       "    </tr>\n",
       "    <tr>\n",
       "      <th>248</th>\n",
       "      <td>Morocco</td>\n",
       "      <td>Refused</td>\n",
       "      <td>2020</td>\n",
       "      <td>0.0</td>\n",
       "      <td>0.0</td>\n",
       "      <td>NaN</td>\n",
       "      <td>NaN</td>\n",
       "    </tr>\n",
       "    <tr>\n",
       "      <th>257</th>\n",
       "      <td>Syria</td>\n",
       "      <td>Refused</td>\n",
       "      <td>2020</td>\n",
       "      <td>0.0</td>\n",
       "      <td>0.0</td>\n",
       "      <td>NaN</td>\n",
       "      <td>NaN</td>\n",
       "    </tr>\n",
       "    <tr>\n",
       "      <th>255</th>\n",
       "      <td>Iraq</td>\n",
       "      <td>Refused</td>\n",
       "      <td>2020</td>\n",
       "      <td>0.0</td>\n",
       "      <td>0.0</td>\n",
       "      <td>NaN</td>\n",
       "      <td>NaN</td>\n",
       "    </tr>\n",
       "    <tr>\n",
       "      <th>253</th>\n",
       "      <td>Nigeria</td>\n",
       "      <td>Refused</td>\n",
       "      <td>2020</td>\n",
       "      <td>0.0</td>\n",
       "      <td>0.0</td>\n",
       "      <td>NaN</td>\n",
       "      <td>NaN</td>\n",
       "    </tr>\n",
       "    <tr>\n",
       "      <th>...</th>\n",
       "      <td>...</td>\n",
       "      <td>...</td>\n",
       "      <td>...</td>\n",
       "      <td>...</td>\n",
       "      <td>...</td>\n",
       "      <td>...</td>\n",
       "      <td>...</td>\n",
       "    </tr>\n",
       "    <tr>\n",
       "      <th>2</th>\n",
       "      <td>Iraq</td>\n",
       "      <td>Refused</td>\n",
       "      <td>2001</td>\n",
       "      <td>6317.0</td>\n",
       "      <td>2718.0</td>\n",
       "      <td>2.324135</td>\n",
       "      <td>2.324135</td>\n",
       "    </tr>\n",
       "    <tr>\n",
       "      <th>187</th>\n",
       "      <td>Syria</td>\n",
       "      <td>Withdrawn</td>\n",
       "      <td>2001</td>\n",
       "      <td>5.0</td>\n",
       "      <td>35.0</td>\n",
       "      <td>0.142857</td>\n",
       "      <td>0.142857</td>\n",
       "    </tr>\n",
       "    <tr>\n",
       "      <th>119</th>\n",
       "      <td>Eritrea</td>\n",
       "      <td>Withdrawn</td>\n",
       "      <td>2001</td>\n",
       "      <td>7.0</td>\n",
       "      <td>351.0</td>\n",
       "      <td>0.019943</td>\n",
       "      <td>0.019943</td>\n",
       "    </tr>\n",
       "    <tr>\n",
       "      <th>118</th>\n",
       "      <td>Eritrea</td>\n",
       "      <td>Refused</td>\n",
       "      <td>2001</td>\n",
       "      <td>954.0</td>\n",
       "      <td>351.0</td>\n",
       "      <td>2.717949</td>\n",
       "      <td>2.717949</td>\n",
       "    </tr>\n",
       "    <tr>\n",
       "      <th>0</th>\n",
       "      <td>Serbia and Montenegro</td>\n",
       "      <td>Refused</td>\n",
       "      <td>2001</td>\n",
       "      <td>9011.0</td>\n",
       "      <td>2420.0</td>\n",
       "      <td>3.723554</td>\n",
       "      <td>3.723554</td>\n",
       "    </tr>\n",
       "  </tbody>\n",
       "</table>\n",
       "<p>302 rows × 7 columns</p>\n",
       "</div>"
      ],
      "text/plain": [
       "               Nationality Case outcome group  Year  Decisions  Accepted  \\\n",
       "256                  Syria          Withdrawn  2020        0.0       0.0   \n",
       "248                Morocco            Refused  2020        0.0       0.0   \n",
       "257                  Syria            Refused  2020        0.0       0.0   \n",
       "255                   Iraq            Refused  2020        0.0       0.0   \n",
       "253                Nigeria            Refused  2020        0.0       0.0   \n",
       "..                     ...                ...   ...        ...       ...   \n",
       "2                     Iraq            Refused  2001     6317.0    2718.0   \n",
       "187                  Syria          Withdrawn  2001        5.0      35.0   \n",
       "119                Eritrea          Withdrawn  2001        7.0     351.0   \n",
       "118                Eritrea            Refused  2001      954.0     351.0   \n",
       "0    Serbia and Montenegro            Refused  2001     9011.0    2420.0   \n",
       "\n",
       "        ratio     Ratio  \n",
       "256       NaN       NaN  \n",
       "248       NaN       NaN  \n",
       "257       NaN       NaN  \n",
       "255       NaN       NaN  \n",
       "253       NaN       NaN  \n",
       "..        ...       ...  \n",
       "2    2.324135  2.324135  \n",
       "187  0.142857  0.142857  \n",
       "119  0.019943  0.019943  \n",
       "118  2.717949  2.717949  \n",
       "0    3.723554  3.723554  \n",
       "\n",
       "[302 rows x 7 columns]"
      ]
     },
     "execution_count": 190,
     "metadata": {},
     "output_type": "execute_result"
    }
   ],
   "source": [
    "df_totals"
   ]
  },
  {
   "cell_type": "code",
   "execution_count": 230,
   "metadata": {},
   "outputs": [
    {
     "data": {
      "text/html": [
       "<div>\n",
       "<style scoped>\n",
       "    .dataframe tbody tr th:only-of-type {\n",
       "        vertical-align: middle;\n",
       "    }\n",
       "\n",
       "    .dataframe tbody tr th {\n",
       "        vertical-align: top;\n",
       "    }\n",
       "\n",
       "    .dataframe thead th {\n",
       "        text-align: right;\n",
       "    }\n",
       "</style>\n",
       "<table border=\"1\" class=\"dataframe\">\n",
       "  <thead>\n",
       "    <tr style=\"text-align: right;\">\n",
       "      <th></th>\n",
       "      <th>Year</th>\n",
       "      <th>Quarter</th>\n",
       "      <th>Nationality</th>\n",
       "      <th>Region</th>\n",
       "      <th>Case type</th>\n",
       "      <th>Case outcome group</th>\n",
       "      <th>Case outcome</th>\n",
       "      <th>Age</th>\n",
       "      <th>Sex</th>\n",
       "      <th>Applicant type</th>\n",
       "      <th>UASC</th>\n",
       "      <th>Decisions</th>\n",
       "    </tr>\n",
       "  </thead>\n",
       "  <tbody>\n",
       "    <tr>\n",
       "      <th>87649</th>\n",
       "      <td>2020</td>\n",
       "      <td>2020 Q1</td>\n",
       "      <td>Nigeria</td>\n",
       "      <td>Africa Sub-Saharan</td>\n",
       "      <td>Asylum Case</td>\n",
       "      <td>Refused</td>\n",
       "      <td>Other Refusals</td>\n",
       "      <td>30-49</td>\n",
       "      <td>Male</td>\n",
       "      <td>Main applicant</td>\n",
       "      <td>Non-UASC</td>\n",
       "      <td>NaN</td>\n",
       "    </tr>\n",
       "    <tr>\n",
       "      <th>87650</th>\n",
       "      <td>2020</td>\n",
       "      <td>2020 Q1</td>\n",
       "      <td>Nigeria</td>\n",
       "      <td>Africa Sub-Saharan</td>\n",
       "      <td>Asylum Case</td>\n",
       "      <td>Refused</td>\n",
       "      <td>Other Refusals</td>\n",
       "      <td>30-49</td>\n",
       "      <td>Female</td>\n",
       "      <td>Main applicant</td>\n",
       "      <td>Non-UASC</td>\n",
       "      <td>NaN</td>\n",
       "    </tr>\n",
       "    <tr>\n",
       "      <th>87651</th>\n",
       "      <td>2020</td>\n",
       "      <td>2020 Q1</td>\n",
       "      <td>Nigeria</td>\n",
       "      <td>Africa Sub-Saharan</td>\n",
       "      <td>Asylum Case</td>\n",
       "      <td>Refused</td>\n",
       "      <td>Other Refusals</td>\n",
       "      <td>18-29</td>\n",
       "      <td>Male</td>\n",
       "      <td>Main applicant</td>\n",
       "      <td>Non-UASC</td>\n",
       "      <td>NaN</td>\n",
       "    </tr>\n",
       "    <tr>\n",
       "      <th>87652</th>\n",
       "      <td>2020</td>\n",
       "      <td>2020 Q1</td>\n",
       "      <td>Nigeria</td>\n",
       "      <td>Africa Sub-Saharan</td>\n",
       "      <td>Asylum Case</td>\n",
       "      <td>Refused</td>\n",
       "      <td>Other Refusals</td>\n",
       "      <td>50-69</td>\n",
       "      <td>Female</td>\n",
       "      <td>Main applicant</td>\n",
       "      <td>Non-UASC</td>\n",
       "      <td>NaN</td>\n",
       "    </tr>\n",
       "    <tr>\n",
       "      <th>87653</th>\n",
       "      <td>2020</td>\n",
       "      <td>2020 Q1</td>\n",
       "      <td>Nigeria</td>\n",
       "      <td>Africa Sub-Saharan</td>\n",
       "      <td>Asylum Case</td>\n",
       "      <td>Refused</td>\n",
       "      <td>Certified Refusal</td>\n",
       "      <td>30-49</td>\n",
       "      <td>Male</td>\n",
       "      <td>Main applicant</td>\n",
       "      <td>Non-UASC</td>\n",
       "      <td>NaN</td>\n",
       "    </tr>\n",
       "    <tr>\n",
       "      <th>...</th>\n",
       "      <td>...</td>\n",
       "      <td>...</td>\n",
       "      <td>...</td>\n",
       "      <td>...</td>\n",
       "      <td>...</td>\n",
       "      <td>...</td>\n",
       "      <td>...</td>\n",
       "      <td>...</td>\n",
       "      <td>...</td>\n",
       "      <td>...</td>\n",
       "      <td>...</td>\n",
       "      <td>...</td>\n",
       "    </tr>\n",
       "    <tr>\n",
       "      <th>91287</th>\n",
       "      <td>2020</td>\n",
       "      <td>2020 Q4</td>\n",
       "      <td>Nigeria</td>\n",
       "      <td>Africa Sub-Saharan</td>\n",
       "      <td>Asylum Case</td>\n",
       "      <td>Withdrawn</td>\n",
       "      <td>Non-Substantiated Withdrawal</td>\n",
       "      <td>18-29</td>\n",
       "      <td>Male</td>\n",
       "      <td>Main Applicant</td>\n",
       "      <td>Non-UASC</td>\n",
       "      <td>NaN</td>\n",
       "    </tr>\n",
       "    <tr>\n",
       "      <th>91288</th>\n",
       "      <td>2020</td>\n",
       "      <td>2020 Q4</td>\n",
       "      <td>Nigeria</td>\n",
       "      <td>Africa Sub-Saharan</td>\n",
       "      <td>Asylum Case</td>\n",
       "      <td>Withdrawn</td>\n",
       "      <td>Non-Substantiated Withdrawal</td>\n",
       "      <td>30-49</td>\n",
       "      <td>Male</td>\n",
       "      <td>Main Applicant</td>\n",
       "      <td>Non-UASC</td>\n",
       "      <td>NaN</td>\n",
       "    </tr>\n",
       "    <tr>\n",
       "      <th>91289</th>\n",
       "      <td>2020</td>\n",
       "      <td>2020 Q4</td>\n",
       "      <td>Nigeria</td>\n",
       "      <td>Africa Sub-Saharan</td>\n",
       "      <td>Asylum Case</td>\n",
       "      <td>Withdrawn</td>\n",
       "      <td>Other Withdrawal</td>\n",
       "      <td>18-29</td>\n",
       "      <td>Male</td>\n",
       "      <td>Main Applicant</td>\n",
       "      <td>Non-UASC</td>\n",
       "      <td>NaN</td>\n",
       "    </tr>\n",
       "    <tr>\n",
       "      <th>91290</th>\n",
       "      <td>2020</td>\n",
       "      <td>2020 Q4</td>\n",
       "      <td>Nigeria</td>\n",
       "      <td>Africa Sub-Saharan</td>\n",
       "      <td>Asylum Case</td>\n",
       "      <td>Withdrawn</td>\n",
       "      <td>Other Withdrawal</td>\n",
       "      <td>30-49</td>\n",
       "      <td>Female</td>\n",
       "      <td>Main Applicant</td>\n",
       "      <td>Non-UASC</td>\n",
       "      <td>NaN</td>\n",
       "    </tr>\n",
       "    <tr>\n",
       "      <th>91291</th>\n",
       "      <td>2020</td>\n",
       "      <td>2020 Q4</td>\n",
       "      <td>Nigeria</td>\n",
       "      <td>Africa Sub-Saharan</td>\n",
       "      <td>Asylum Case</td>\n",
       "      <td>Withdrawn</td>\n",
       "      <td>Other Withdrawal</td>\n",
       "      <td>30-49</td>\n",
       "      <td>Male</td>\n",
       "      <td>Main Applicant</td>\n",
       "      <td>Non-UASC</td>\n",
       "      <td>NaN</td>\n",
       "    </tr>\n",
       "  </tbody>\n",
       "</table>\n",
       "<p>174 rows × 12 columns</p>\n",
       "</div>"
      ],
      "text/plain": [
       "       Year  Quarter Nationality              Region    Case type  \\\n",
       "87649  2020  2020 Q1     Nigeria  Africa Sub-Saharan  Asylum Case   \n",
       "87650  2020  2020 Q1     Nigeria  Africa Sub-Saharan  Asylum Case   \n",
       "87651  2020  2020 Q1     Nigeria  Africa Sub-Saharan  Asylum Case   \n",
       "87652  2020  2020 Q1     Nigeria  Africa Sub-Saharan  Asylum Case   \n",
       "87653  2020  2020 Q1     Nigeria  Africa Sub-Saharan  Asylum Case   \n",
       "...     ...      ...         ...                 ...          ...   \n",
       "91287  2020  2020 Q4     Nigeria  Africa Sub-Saharan  Asylum Case   \n",
       "91288  2020  2020 Q4     Nigeria  Africa Sub-Saharan  Asylum Case   \n",
       "91289  2020  2020 Q4     Nigeria  Africa Sub-Saharan  Asylum Case   \n",
       "91290  2020  2020 Q4     Nigeria  Africa Sub-Saharan  Asylum Case   \n",
       "91291  2020  2020 Q4     Nigeria  Africa Sub-Saharan  Asylum Case   \n",
       "\n",
       "      Case outcome group                  Case outcome   Age      Sex  \\\n",
       "87649            Refused                Other Refusals  30-49    Male   \n",
       "87650            Refused                Other Refusals  30-49  Female   \n",
       "87651            Refused                Other Refusals  18-29    Male   \n",
       "87652            Refused                Other Refusals  50-69  Female   \n",
       "87653            Refused             Certified Refusal  30-49    Male   \n",
       "...                  ...                           ...    ...     ...   \n",
       "91287          Withdrawn  Non-Substantiated Withdrawal  18-29    Male   \n",
       "91288          Withdrawn  Non-Substantiated Withdrawal  30-49    Male   \n",
       "91289          Withdrawn              Other Withdrawal  18-29    Male   \n",
       "91290          Withdrawn              Other Withdrawal  30-49  Female   \n",
       "91291          Withdrawn              Other Withdrawal  30-49    Male   \n",
       "\n",
       "       Applicant type      UASC Decisions  \n",
       "87649  Main applicant  Non-UASC       NaN  \n",
       "87650  Main applicant  Non-UASC       NaN  \n",
       "87651  Main applicant  Non-UASC       NaN  \n",
       "87652  Main applicant  Non-UASC       NaN  \n",
       "87653  Main applicant  Non-UASC       NaN  \n",
       "...               ...       ...       ...  \n",
       "91287  Main Applicant  Non-UASC       NaN  \n",
       "91288  Main Applicant  Non-UASC       NaN  \n",
       "91289  Main Applicant  Non-UASC       NaN  \n",
       "91290  Main Applicant  Non-UASC       NaN  \n",
       "91291  Main Applicant  Non-UASC       NaN  \n",
       "\n",
       "[174 rows x 12 columns]"
      ]
     },
     "execution_count": 230,
     "metadata": {},
     "output_type": "execute_result"
    }
   ],
   "source": [
    "df.loc[(df['Nationality'] == 'Nigeria') & (df['Year'] == '2020')]"
   ]
  }
 ],
 "metadata": {
  "kernelspec": {
   "display_name": "env37",
   "language": "python",
   "name": "env37"
  },
  "language_info": {
   "codemirror_mode": {
    "name": "ipython",
    "version": 3
   },
   "file_extension": ".py",
   "mimetype": "text/x-python",
   "name": "python",
   "nbconvert_exporter": "python",
   "pygments_lexer": "ipython3",
   "version": "3.7.7"
  }
 },
 "nbformat": 4,
 "nbformat_minor": 4
}
